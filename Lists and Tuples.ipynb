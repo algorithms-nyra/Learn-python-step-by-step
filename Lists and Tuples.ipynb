{
 "cells": [
  {
   "cell_type": "markdown",
   "metadata": {},
   "source": [
    "<h3>Lists</h3>\n",
    "<br>List in python is a data structure, where we can save an ordered sequence of data elements/items.\n",
    "<br> Each element in a list is separated with a comma(,) and this set of  elements are  enclosed within square brackets.\n",
    "<br>Let's try some examples."
   ]
  },
  {
   "cell_type": "code",
   "execution_count": 1,
   "metadata": {},
   "outputs": [
    {
     "data": {
      "text/plain": [
       "[20, 30, 45.5, 60, 10.6, 100]"
      ]
     },
     "execution_count": 1,
     "metadata": {},
     "output_type": "execute_result"
    }
   ],
   "source": [
    "#Create a list of integer numbers and float numbers\n",
    "lst_nums=[20,30,45.5,60,10.6,100]\n",
    "lst_nums"
   ]
  },
  {
   "cell_type": "code",
   "execution_count": 2,
   "metadata": {},
   "outputs": [
    {
     "name": "stdout",
     "output_type": "stream",
     "text": [
      "3rd element: 45.5 \n",
      "last element: 100\n"
     ]
    }
   ],
   "source": [
    "#We can access the list elements using its index\n",
    "#Let's print the 3rd and last element\n",
    "print('3rd element:',lst_nums[2],'\\nlast element:',lst_nums[5])"
   ]
  },
  {
   "cell_type": "code",
   "execution_count": 3,
   "metadata": {},
   "outputs": [
    {
     "name": "stdout",
     "output_type": "stream",
     "text": [
      "3rd element: 45.5 \n",
      "last element: 100\n"
     ]
    }
   ],
   "source": [
    "#print the 3rd and last element using negative indexing\n",
    "print('3rd element:',lst_nums[-4],'\\nlast element:',lst_nums[-1])"
   ]
  },
  {
   "cell_type": "markdown",
   "metadata": {},
   "source": [
    "* Lists are mutable."
   ]
  },
  {
   "cell_type": "code",
   "execution_count": 4,
   "metadata": {},
   "outputs": [
    {
     "data": {
      "text/plain": [
       "['Python is easy to learn.',\n",
       " ('orange', 'mango', 'apple'),\n",
       " ['python', 'scala', 'spark'],\n",
       " 100,\n",
       " 45]"
      ]
     },
     "execution_count": 4,
     "metadata": {},
     "output_type": "execute_result"
    }
   ],
   "source": [
    "#Create another list which contain tuple, list, string and number.\n",
    "lst_random=['Python is easy to learn.',('orange','mango','apple'),['python','scala','spark'],100,45]\n",
    "lst_random"
   ]
  },
  {
   "cell_type": "code",
   "execution_count": 5,
   "metadata": {},
   "outputs": [
    {
     "data": {
      "text/plain": [
       "['Python is easy to learn.',\n",
       " ('orange', 'mango', 'apple'),\n",
       " ['python', 'scala', 'spark'],\n",
       " 100,\n",
       " 'updated list item']"
      ]
     },
     "execution_count": 5,
     "metadata": {},
     "output_type": "execute_result"
    }
   ],
   "source": [
    "#Let's check if lists are mutable.\n",
    "lst_random[4]='updated list item'\n",
    "lst_random"
   ]
  },
  {
   "cell_type": "code",
   "execution_count": 6,
   "metadata": {},
   "outputs": [
    {
     "data": {
      "text/plain": [
       "'mango'"
      ]
     },
     "execution_count": 6,
     "metadata": {},
     "output_type": "execute_result"
    }
   ],
   "source": [
    "#There is a tuple in the list\n",
    "#print the tuple's 2nd item\n",
    "lst_random[1][1]"
   ]
  },
  {
   "cell_type": "markdown",
   "metadata": {},
   "source": [
    "* List operations\n"
   ]
  },
  {
   "cell_type": "code",
   "execution_count": 7,
   "metadata": {},
   "outputs": [
    {
     "data": {
      "text/plain": [
       "['apple', 'mango', 'pear', 'carrot', 'beans', 'cabbage']"
      ]
     },
     "execution_count": 7,
     "metadata": {},
     "output_type": "execute_result"
    }
   ],
   "source": [
    "#Let's try some list operations.\n",
    "#concatenation\n",
    "lst_fruit=['apple','mango','pear']\n",
    "lst_veg=['carrot','beans','cabbage']\n",
    "#concatenate both lists to form a single list\n",
    "lst_fruit_veg=lst_fruit+lst_veg\n",
    "lst_fruit_veg"
   ]
  },
  {
   "cell_type": "code",
   "execution_count": 8,
   "metadata": {},
   "outputs": [
    {
     "data": {
      "text/plain": [
       "['carrot', 'beans', 'cabbage']"
      ]
     },
     "execution_count": 8,
     "metadata": {},
     "output_type": "execute_result"
    }
   ],
   "source": [
    "#slicing\n",
    "#print the last 3 elements in lst_fruit_veg\n",
    "lst_fruit_veg[3:6]"
   ]
  },
  {
   "cell_type": "code",
   "execution_count": 9,
   "metadata": {},
   "outputs": [
    {
     "data": {
      "text/plain": [
       "['apple', 'mango', 'pear', 'carrot', 'beans', 'cabbage', 'grapes', 'potato']"
      ]
     },
     "execution_count": 9,
     "metadata": {},
     "output_type": "execute_result"
    }
   ],
   "source": [
    "#extend()\n",
    "#add ['grapes','potato'] to the list\n",
    "lst_fruit_veg.extend(['grapes','potato'])\n",
    "lst_fruit_veg"
   ]
  },
  {
   "cell_type": "code",
   "execution_count": 10,
   "metadata": {},
   "outputs": [
    {
     "data": {
      "text/plain": [
       "['apple',\n",
       " 'mango',\n",
       " 'pear',\n",
       " 'carrot',\n",
       " 'beans',\n",
       " 'cabbage',\n",
       " 'grapes',\n",
       " 'potato',\n",
       " ['spinach', 'kale']]"
      ]
     },
     "execution_count": 10,
     "metadata": {},
     "output_type": "execute_result"
    }
   ],
   "source": [
    "#append()\n",
    "#add ['spinach','kale'] to the list\n",
    "lst_fruit_veg.append(['spinach','kale'])\n",
    "lst_fruit_veg"
   ]
  },
  {
   "cell_type": "markdown",
   "metadata": {},
   "source": [
    "See the difference between extend() and append() ??<br>\n",
    "extend() adds each element in the input list to the main list.<br>\n",
    "append() adds the input list itself as a single element to the main list."
   ]
  },
  {
   "cell_type": "code",
   "execution_count": 11,
   "metadata": {},
   "outputs": [
    {
     "data": {
      "text/plain": [
       "['apple', 'mango', 'pear', 'carrot', 'beans', 'cabbage', 'grapes', 'potato']"
      ]
     },
     "execution_count": 11,
     "metadata": {},
     "output_type": "execute_result"
    }
   ],
   "source": [
    "#del or remove()\n",
    "#using del, remove ['spinach','kale'] from the main list\n",
    "del lst_fruit_veg[-1]\n",
    "lst_fruit_veg"
   ]
  },
  {
   "cell_type": "code",
   "execution_count": 12,
   "metadata": {},
   "outputs": [
    {
     "data": {
      "text/plain": [
       "['apple', 'mango', 'pear', 'carrot', 'beans', 'cabbage', 'grapes']"
      ]
     },
     "execution_count": 12,
     "metadata": {},
     "output_type": "execute_result"
    }
   ],
   "source": [
    "#using remove(), remove ['spinach','kale'] from the main list\n",
    "lst_fruit_veg.remove('potato')\n",
    "lst_fruit_veg"
   ]
  },
  {
   "cell_type": "markdown",
   "metadata": {},
   "source": [
    "<h3>Tuples</h3><br>\n",
    "Tuple in python is a data structure, where we can save an ordered sequence of data elements/items.<br>\n",
    "Each element in a tuple is separated with a comma(,) and this set of  elements are  enclosed within parentheses."
   ]
  },
  {
   "cell_type": "code",
   "execution_count": 13,
   "metadata": {},
   "outputs": [
    {
     "data": {
      "text/plain": [
       "(12.7, 40, 34, 56.7, 10, 5.2)"
      ]
     },
     "execution_count": 13,
     "metadata": {},
     "output_type": "execute_result"
    }
   ],
   "source": [
    "#Create a tuple of integer numbers and float numbers\n",
    "tpl_nums=(12.7,40,34,56.7,10,5.2)\n",
    "tpl_nums"
   ]
  },
  {
   "cell_type": "code",
   "execution_count": 14,
   "metadata": {},
   "outputs": [
    {
     "name": "stdout",
     "output_type": "stream",
     "text": [
      "2nd element: 40 \n",
      "last element: 5.2\n"
     ]
    }
   ],
   "source": [
    "#We can access the tuple elements using its index\n",
    "#Let's print the 2nd and last element\n",
    "print('2nd element:',tpl_nums[1],'\\nlast element:',tpl_nums[5])"
   ]
  },
  {
   "cell_type": "code",
   "execution_count": 15,
   "metadata": {},
   "outputs": [
    {
     "name": "stdout",
     "output_type": "stream",
     "text": [
      "2nd element: 40 \n",
      "last element: 5.2\n"
     ]
    }
   ],
   "source": [
    "#print the 2nd and last element using negative indexing\n",
    "print('2nd element:',tpl_nums[-5],'\\nlast element:',tpl_nums[-1])"
   ]
  },
  {
   "cell_type": "code",
   "execution_count": 16,
   "metadata": {},
   "outputs": [
    {
     "data": {
      "text/plain": [
       "(['red', 'orange', 'green'],\n",
       " ('sky', 'jungle', 'animals'),\n",
       " 'python is easy to learn.',\n",
       " 555,\n",
       " 23.7)"
      ]
     },
     "execution_count": 16,
     "metadata": {},
     "output_type": "execute_result"
    }
   ],
   "source": [
    "#Create another tuple which contain tuple, list, string and number.\n",
    "tpl_nested=(['red','orange','green'],('sky','jungle','animals'),'python is easy to learn.',555,23.7)\n",
    "tpl_nested"
   ]
  },
  {
   "cell_type": "code",
   "execution_count": 17,
   "metadata": {},
   "outputs": [
    {
     "data": {
      "text/plain": [
       "'animals'"
      ]
     },
     "execution_count": 17,
     "metadata": {},
     "output_type": "execute_result"
    }
   ],
   "source": [
    "#There is a nested tuple in tpl_nested\n",
    "#print the nested tuple's 3rd item\n",
    "tpl_nested[1][2]"
   ]
  },
  {
   "cell_type": "markdown",
   "metadata": {},
   "source": [
    "Tuples are immutable."
   ]
  },
  {
   "cell_type": "code",
   "execution_count": 18,
   "metadata": {},
   "outputs": [
    {
     "ename": "TypeError",
     "evalue": "'tuple' object does not support item assignment",
     "output_type": "error",
     "traceback": [
      "\u001b[1;31m---------------------------------------------------------------------------\u001b[0m",
      "\u001b[1;31mTypeError\u001b[0m                                 Traceback (most recent call last)",
      "\u001b[1;32m<ipython-input-18-ddd62db7a24b>\u001b[0m in \u001b[0;36m<module>\u001b[1;34m\u001b[0m\n\u001b[0;32m      1\u001b[0m \u001b[1;31m#Let's check if tuples are mutable or immutable.\u001b[0m\u001b[1;33m\u001b[0m\u001b[1;33m\u001b[0m\u001b[1;33m\u001b[0m\u001b[0m\n\u001b[1;32m----> 2\u001b[1;33m \u001b[0mtpl_nested\u001b[0m\u001b[1;33m[\u001b[0m\u001b[1;36m3\u001b[0m\u001b[1;33m]\u001b[0m\u001b[1;33m=\u001b[0m\u001b[1;34m'updated list item'\u001b[0m\u001b[1;33m\u001b[0m\u001b[1;33m\u001b[0m\u001b[0m\n\u001b[0m\u001b[0;32m      3\u001b[0m \u001b[0mtpl_nested\u001b[0m\u001b[1;33m\u001b[0m\u001b[1;33m\u001b[0m\u001b[0m\n",
      "\u001b[1;31mTypeError\u001b[0m: 'tuple' object does not support item assignment"
     ]
    }
   ],
   "source": [
    "#Let's check if tuples are mutable or immutable.\n",
    "tpl_nested[3]='updated list item'\n",
    "tpl_nested"
   ]
  },
  {
   "cell_type": "markdown",
   "metadata": {},
   "source": [
    "The above example proves that tuples are immutable."
   ]
  },
  {
   "cell_type": "code",
   "execution_count": 19,
   "metadata": {},
   "outputs": [
    {
     "data": {
      "text/plain": [
       "('car', 'bus', 'train')"
      ]
     },
     "execution_count": 19,
     "metadata": {},
     "output_type": "execute_result"
    }
   ],
   "source": [
    "#Let's try some tuple operations.\n",
    "tpl_vehicles=('car','bus','train')\n",
    "tpl_vehicles"
   ]
  },
  {
   "cell_type": "code",
   "execution_count": 20,
   "metadata": {},
   "outputs": [
    {
     "data": {
      "text/plain": [
       "('car', 'bus', 'train', 'scooter', 'truck')"
      ]
     },
     "execution_count": 20,
     "metadata": {},
     "output_type": "execute_result"
    }
   ],
   "source": [
    "#concatenate tuple ('scooter','truck') to tpl_vehicles\n",
    "tpl_vehicles=tpl_vehicles+('scooter','truck')\n",
    "tpl_vehicles"
   ]
  },
  {
   "cell_type": "code",
   "execution_count": 21,
   "metadata": {},
   "outputs": [
    {
     "data": {
      "text/plain": [
       "('car', 'bus', 'train')"
      ]
     },
     "execution_count": 21,
     "metadata": {},
     "output_type": "execute_result"
    }
   ],
   "source": [
    "#slicing\n",
    "#print the first 3 elements in tpl_vehicles\n",
    "tpl_vehicles[0:3]"
   ]
  },
  {
   "cell_type": "code",
   "execution_count": 22,
   "metadata": {},
   "outputs": [
    {
     "data": {
      "text/plain": [
       "5"
      ]
     },
     "execution_count": 22,
     "metadata": {},
     "output_type": "execute_result"
    }
   ],
   "source": [
    "#find length of tuple using len()\n",
    "len(tpl_vehicles)"
   ]
  },
  {
   "cell_type": "code",
   "execution_count": 23,
   "metadata": {},
   "outputs": [
    {
     "name": "stdout",
     "output_type": "stream",
     "text": [
      "First item in tuple: 5 \n",
      "Type: <class 'tuple'>\n"
     ]
    }
   ],
   "source": [
    "#check type of a tuple with one item\n",
    "tpl_with_one_item=(5,)\n",
    "print('First item in tuple:',tpl_with_one_item[0],'\\nType:',type(tpl_with_one_item))"
   ]
  },
  {
   "cell_type": "code",
   "execution_count": 24,
   "metadata": {},
   "outputs": [
    {
     "name": "stdout",
     "output_type": "stream",
     "text": [
      "\n",
      "Type: <class 'int'>\n"
     ]
    },
    {
     "ename": "TypeError",
     "evalue": "'int' object is not subscriptable",
     "output_type": "error",
     "traceback": [
      "\u001b[1;31m---------------------------------------------------------------------------\u001b[0m",
      "\u001b[1;31mTypeError\u001b[0m                                 Traceback (most recent call last)",
      "\u001b[1;32m<ipython-input-24-74a5db617328>\u001b[0m in \u001b[0;36m<module>\u001b[1;34m\u001b[0m\n\u001b[0;32m      2\u001b[0m \u001b[0mtpl_with_one_item\u001b[0m\u001b[1;33m=\u001b[0m\u001b[1;33m(\u001b[0m\u001b[1;36m5\u001b[0m\u001b[1;33m)\u001b[0m\u001b[1;33m\u001b[0m\u001b[1;33m\u001b[0m\u001b[0m\n\u001b[0;32m      3\u001b[0m \u001b[0mprint\u001b[0m\u001b[1;33m(\u001b[0m\u001b[1;34m'\\nType:'\u001b[0m\u001b[1;33m,\u001b[0m\u001b[0mtype\u001b[0m\u001b[1;33m(\u001b[0m\u001b[0mtpl_with_one_item\u001b[0m\u001b[1;33m)\u001b[0m\u001b[1;33m)\u001b[0m\u001b[1;33m\u001b[0m\u001b[1;33m\u001b[0m\u001b[0m\n\u001b[1;32m----> 4\u001b[1;33m \u001b[0mprint\u001b[0m\u001b[1;33m(\u001b[0m\u001b[1;34m'First item in tuple:'\u001b[0m\u001b[1;33m,\u001b[0m\u001b[0mtpl_with_one_item\u001b[0m\u001b[1;33m[\u001b[0m\u001b[1;36m0\u001b[0m\u001b[1;33m]\u001b[0m\u001b[1;33m)\u001b[0m\u001b[1;33m\u001b[0m\u001b[1;33m\u001b[0m\u001b[0m\n\u001b[0m",
      "\u001b[1;31mTypeError\u001b[0m: 'int' object is not subscriptable"
     ]
    }
   ],
   "source": [
    "#Let's try to add the single item in tuple without a comma\n",
    "tpl_with_one_item=(5)\n",
    "print('\\nType:',type(tpl_with_one_item))\n",
    "print('First item in tuple:',tpl_with_one_item[0])"
   ]
  },
  {
   "cell_type": "markdown",
   "metadata": {},
   "source": [
    "See the difference?<br>\n",
    "When we add a single item in tuple without a comma, python will NOT consider the object as tuple."
   ]
  },
  {
   "cell_type": "code",
   "execution_count": 25,
   "metadata": {},
   "outputs": [
    {
     "name": "stdout",
     "output_type": "stream",
     "text": [
      "Vowels: ('a', 'e', 'i', 'o', 'u')\n"
     ]
    },
    {
     "ename": "NameError",
     "evalue": "name 'tpl_to_delete' is not defined",
     "output_type": "error",
     "traceback": [
      "\u001b[1;31m---------------------------------------------------------------------------\u001b[0m",
      "\u001b[1;31mNameError\u001b[0m                                 Traceback (most recent call last)",
      "\u001b[1;32m<ipython-input-25-6b7c2b39a3ac>\u001b[0m in \u001b[0;36m<module>\u001b[1;34m\u001b[0m\n\u001b[0;32m      4\u001b[0m \u001b[0mprint\u001b[0m\u001b[1;33m(\u001b[0m\u001b[1;34m'Vowels:'\u001b[0m\u001b[1;33m,\u001b[0m\u001b[0mtpl_to_delete\u001b[0m\u001b[1;33m)\u001b[0m\u001b[1;33m\u001b[0m\u001b[1;33m\u001b[0m\u001b[0m\n\u001b[0;32m      5\u001b[0m \u001b[1;32mdel\u001b[0m \u001b[0mtpl_to_delete\u001b[0m\u001b[1;33m\u001b[0m\u001b[1;33m\u001b[0m\u001b[0m\n\u001b[1;32m----> 6\u001b[1;33m \u001b[0mprint\u001b[0m\u001b[1;33m(\u001b[0m\u001b[1;34m'Vowels:'\u001b[0m\u001b[1;33m,\u001b[0m\u001b[0mtpl_to_delete\u001b[0m\u001b[1;33m)\u001b[0m\u001b[1;33m\u001b[0m\u001b[1;33m\u001b[0m\u001b[0m\n\u001b[0m",
      "\u001b[1;31mNameError\u001b[0m: name 'tpl_to_delete' is not defined"
     ]
    }
   ],
   "source": [
    "#Since tuples are immutable, we cannot add or remove elements from tuple.\n",
    "#But we can delete the entire tuple.\n",
    "tpl_to_delete=('a','e','i','o','u')\n",
    "print('Vowels:',tpl_to_delete)\n",
    "del tpl_to_delete\n",
    "print('Vowels:',tpl_to_delete)"
   ]
  },
  {
   "cell_type": "code",
   "execution_count": null,
   "metadata": {},
   "outputs": [],
   "source": []
  }
 ],
 "metadata": {
  "kernelspec": {
   "display_name": "Python 3",
   "language": "python",
   "name": "python3"
  },
  "language_info": {
   "codemirror_mode": {
    "name": "ipython",
    "version": 3
   },
   "file_extension": ".py",
   "mimetype": "text/x-python",
   "name": "python",
   "nbconvert_exporter": "python",
   "pygments_lexer": "ipython3",
   "version": "3.7.3"
  }
 },
 "nbformat": 4,
 "nbformat_minor": 2
}
