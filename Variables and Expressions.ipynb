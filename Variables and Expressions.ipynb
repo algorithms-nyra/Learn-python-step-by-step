{
 "cells": [
  {
   "cell_type": "markdown",
   "metadata": {},
   "source": [
    "<h3>Variables</h3>"
   ]
  },
  {
   "cell_type": "markdown",
   "metadata": {},
   "source": [
    "Python variables are used to store values or objects.<br>\n",
    "We should use meaningful names for our variables so that we can identify what the variable’s purpose is in the whole program,<br>\n",
    "and it is a good coding standard. \n",
    "<br><br>\n",
    "We can use the assignment operator(=) to assign  a value to a variable.\n",
    "\n",
    "<br>Let's try some examples\n"
   ]
  },
  {
   "cell_type": "code",
   "execution_count": 1,
   "metadata": {},
   "outputs": [
    {
     "name": "stdout",
     "output_type": "stream",
     "text": [
      "45\n"
     ]
    }
   ],
   "source": [
    "#Let's find the sum of 3 variables with 3 random values\n",
    "#step 1 #assign values to 3 different variables\n",
    "var_a=10\n",
    "var_b=30\n",
    "var_c=5\n",
    "#step 2 #Calculate sum\n",
    "sum_of_3_vars=var_a+var_b+var_c\n",
    "#print final result\n",
    "print(sum_of_3_vars)"
   ]
  },
  {
   "cell_type": "code",
   "execution_count": 2,
   "metadata": {},
   "outputs": [
    {
     "name": "stdout",
     "output_type": "stream",
     "text": [
      "150\n"
     ]
    }
   ],
   "source": [
    "#Multiply the value of var_b by 5 and use this result to overwrite the value of var_b \n",
    "var_b=var_b*5\n",
    "#check the value of var_b\n",
    "print(var_b)"
   ]
  },
  {
   "cell_type": "code",
   "execution_count": 3,
   "metadata": {},
   "outputs": [
    {
     "name": "stdout",
     "output_type": "stream",
     "text": [
      "165\n"
     ]
    }
   ],
   "source": [
    "#Evaluate the value of sum_of_3_vars again\n",
    "sum_of_3_vars=var_a+var_b+var_c\n",
    "#print final result\n",
    "print(sum_of_3_vars)"
   ]
  },
  {
   "cell_type": "code",
   "execution_count": null,
   "metadata": {},
   "outputs": [],
   "source": []
  },
  {
   "cell_type": "markdown",
   "metadata": {},
   "source": [
    "<h3>Expressions</h3>"
   ]
  },
  {
   "cell_type": "markdown",
   "metadata": {},
   "source": [
    "Python can perform basic arithmetic operations like addition, subtraction, multiplication, division etc.<br>\n",
    "Like we calculate expressions in mathematics, we can write expressions in python too,<br>\n",
    "which is a combination of operands (numbers or variables) and operators (+, -, *, /, //) <br>\n",
    "and on evaluating this expression we get a final result."
   ]
  },
  {
   "cell_type": "code",
   "execution_count": 4,
   "metadata": {},
   "outputs": [
    {
     "name": "stdout",
     "output_type": "stream",
     "text": [
      "8\n"
     ]
    }
   ],
   "source": [
    "#Lets write an expression which includes addition and subtraction\n",
    "exprssnAS=5+8-3-2\n",
    "#Check the result\n",
    "print(exprssnAS)"
   ]
  },
  {
   "cell_type": "code",
   "execution_count": 5,
   "metadata": {},
   "outputs": [
    {
     "name": "stdout",
     "output_type": "stream",
     "text": [
      "2.0\n"
     ]
    }
   ],
   "source": [
    "#Lets write an expression which includes multiplication and division\n",
    "exprssnMD=10*2/10\n",
    "#Check the result\n",
    "print(exprssnMD)"
   ]
  },
  {
   "cell_type": "code",
   "execution_count": 6,
   "metadata": {},
   "outputs": [
    {
     "name": "stdout",
     "output_type": "stream",
     "text": [
      "3.0\n"
     ]
    }
   ],
   "source": [
    "#Lets try another expression using parantheses\n",
    "exprsnASMD=(10-5*2+30)/(40/2-10)\n",
    "#Check the result\n",
    "print(exprsnASMD)"
   ]
  },
  {
   "cell_type": "markdown",
   "metadata": {},
   "source": [
    "The division operator(/) always results in a float number. \n",
    "<br>If we want a rounded integer result we need to use the integer division operator (//)"
   ]
  },
  {
   "cell_type": "code",
   "execution_count": 7,
   "metadata": {},
   "outputs": [
    {
     "data": {
      "text/plain": [
       "6.5"
      ]
     },
     "execution_count": 7,
     "metadata": {},
     "output_type": "execute_result"
    }
   ],
   "source": [
    "#Lets try division operator\n",
    "13/2"
   ]
  },
  {
   "cell_type": "code",
   "execution_count": 8,
   "metadata": {},
   "outputs": [
    {
     "data": {
      "text/plain": [
       "6"
      ]
     },
     "execution_count": 8,
     "metadata": {},
     "output_type": "execute_result"
    }
   ],
   "source": [
    "#Lets try integer division operator\n",
    "13//2"
   ]
  },
  {
   "cell_type": "code",
   "execution_count": null,
   "metadata": {},
   "outputs": [],
   "source": []
  },
  {
   "cell_type": "code",
   "execution_count": null,
   "metadata": {},
   "outputs": [],
   "source": []
  }
 ],
 "metadata": {
  "kernelspec": {
   "display_name": "Python 3",
   "language": "python",
   "name": "python3"
  },
  "language_info": {
   "codemirror_mode": {
    "name": "ipython",
    "version": 3
   },
   "file_extension": ".py",
   "mimetype": "text/x-python",
   "name": "python",
   "nbconvert_exporter": "python",
   "pygments_lexer": "ipython3",
   "version": "3.7.3"
  }
 },
 "nbformat": 4,
 "nbformat_minor": 2
}
