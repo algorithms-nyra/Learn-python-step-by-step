{
 "cells": [
  {
   "cell_type": "markdown",
   "metadata": {},
   "source": [
    "# <h3>String Datatype, String operations</h3>"
   ]
  },
  {
   "cell_type": "code",
   "execution_count": 1,
   "metadata": {},
   "outputs": [
    {
     "name": "stdout",
     "output_type": "stream",
     "text": [
      "Hello Everyone!\n",
      "* * * Welcome to the tutorial on String operations. * * *\n"
     ]
    }
   ],
   "source": [
    "#This line prints the string 'Hello World'\n",
    "#We can use single quotes or double quotes to define a string.\n",
    "print('Hello Everyone!')\n",
    "print(\"* * * Welcome to the tutorial on String operations. * * *\")"
   ]
  },
  {
   "cell_type": "code",
   "execution_count": 2,
   "metadata": {},
   "outputs": [
    {
     "name": "stdout",
     "output_type": "stream",
     "text": [
      "What is your flight number?\n",
      "My flight number is A-D#5678\n"
     ]
    }
   ],
   "source": [
    "print('What is your flight number?')\n",
    "print('My flight number is A-D#5678')"
   ]
  },
  {
   "cell_type": "markdown",
   "metadata": {},
   "source": [
    "<h4>Python Variables:</h4><br/> \n",
    "A variable in python is a reserved memory space to store data. \n",
    "Unlike other programming languages, python doesn't need  explicit declaration for variables.\n",
    "When we assign a value to a variable, using '=' sign, the declaration happens automatically."
   ]
  },
  {
   "cell_type": "code",
   "execution_count": 3,
   "metadata": {},
   "outputs": [
    {
     "name": "stdout",
     "output_type": "stream",
     "text": [
      "I am a string\n",
      "111\n",
      "0.9786\n"
     ]
    }
   ],
   "source": [
    "#Assign string, integer, and decimal values to a variable and print it.\n",
    "str_var='I am a string'\n",
    "print(str_var)\n",
    "int_var=111\n",
    "print(int_var)\n",
    "dcm_var=0.9786\n",
    "print(dcm_var)"
   ]
  },
  {
   "cell_type": "markdown",
   "metadata": {},
   "source": [
    "<h4>Indexing on strings</h4><br/>\n",
    "String is a sequence of characters and these characters or elements in a string can be accessed using it's assigned index, \n",
    "which is known as indexing.<br/>\n",
    "Starting from left to right, index starts from 0, then 1, then 2 etc upto the last element, \n",
    "where the last element's index would be length of the string-1.<br/>\n",
    "We can also use negative indexing, where the last element in the string have the index -1, \n",
    "the second last element will have the index -2 and so on.<br/>\n",
    "Let's try some examples."
   ]
  },
  {
   "cell_type": "code",
   "execution_count": 4,
   "metadata": {},
   "outputs": [],
   "source": [
    "#assign a string to a variable\n",
    "str_indexing='Python is the most popular data science programming language'"
   ]
  },
  {
   "cell_type": "code",
   "execution_count": 5,
   "metadata": {},
   "outputs": [
    {
     "data": {
      "text/plain": [
       "'P'"
      ]
     },
     "execution_count": 5,
     "metadata": {},
     "output_type": "execute_result"
    }
   ],
   "source": [
    "#Which is the first element in the string\n",
    "str_indexing[0]"
   ]
  },
  {
   "cell_type": "code",
   "execution_count": 6,
   "metadata": {},
   "outputs": [
    {
     "data": {
      "text/plain": [
       "'P'"
      ]
     },
     "execution_count": 6,
     "metadata": {},
     "output_type": "execute_result"
    }
   ],
   "source": [
    "#Which is the first element in the string (Use negative indexing)\n",
    "str_indexing[-60]"
   ]
  },
  {
   "cell_type": "code",
   "execution_count": 7,
   "metadata": {},
   "outputs": [
    {
     "data": {
      "text/plain": [
       "'e'"
      ]
     },
     "execution_count": 7,
     "metadata": {},
     "output_type": "execute_result"
    }
   ],
   "source": [
    "#Which is the last element in the string\n",
    "str_indexing[59]"
   ]
  },
  {
   "cell_type": "code",
   "execution_count": 8,
   "metadata": {},
   "outputs": [
    {
     "data": {
      "text/plain": [
       "'e'"
      ]
     },
     "execution_count": 8,
     "metadata": {},
     "output_type": "execute_result"
    }
   ],
   "source": [
    "#Which is the last element in the string (Use negative indexing)\n",
    "str_indexing[-1]"
   ]
  },
  {
   "cell_type": "code",
   "execution_count": 9,
   "metadata": {},
   "outputs": [
    {
     "data": {
      "text/plain": [
       "'d'"
      ]
     },
     "execution_count": 9,
     "metadata": {},
     "output_type": "execute_result"
    }
   ],
   "source": [
    "#Which character is on the 27th index of the string?\n",
    "str_indexing[27]"
   ]
  },
  {
   "cell_type": "code",
   "execution_count": 10,
   "metadata": {},
   "outputs": [
    {
     "data": {
      "text/plain": [
       "'d'"
      ]
     },
     "execution_count": 10,
     "metadata": {},
     "output_type": "execute_result"
    }
   ],
   "source": [
    "#Which character is on the -33th index of the string?\n",
    "str_indexing[-33]"
   ]
  },
  {
   "cell_type": "markdown",
   "metadata": {},
   "source": [
    "<h4>Slicing and stride operations on string</h4><br/>\n",
    "We can extract substrings from a given string, which is known as slicing.<br/>\n",
    "Assume, we need to select every 2nd element in a given string, for this kind of string operations we use stride operation.<br/>\n",
    "Let's try some examples."
   ]
  },
  {
   "cell_type": "code",
   "execution_count": 11,
   "metadata": {},
   "outputs": [],
   "source": [
    "#assign a string to a variable\n",
    "str_example=\"Today's weather is rainy\""
   ]
  },
  {
   "cell_type": "code",
   "execution_count": 12,
   "metadata": {},
   "outputs": [
    {
     "data": {
      "text/plain": [
       "'weather'"
      ]
     },
     "execution_count": 12,
     "metadata": {},
     "output_type": "execute_result"
    }
   ],
   "source": [
    "#Extract the word 'weather' from the string using slicing operation\n",
    "str_example[8:15]"
   ]
  },
  {
   "cell_type": "code",
   "execution_count": 13,
   "metadata": {},
   "outputs": [
    {
     "data": {
      "text/plain": [
       "'rainy'"
      ]
     },
     "execution_count": 13,
     "metadata": {},
     "output_type": "execute_result"
    }
   ],
   "source": [
    "#Extract the word 'rainy' from the string using slicing operation\n",
    "str_example[19:24]"
   ]
  },
  {
   "cell_type": "code",
   "execution_count": 14,
   "metadata": {},
   "outputs": [
    {
     "data": {
      "text/plain": [
       "'Tywhia'"
      ]
     },
     "execution_count": 14,
     "metadata": {},
     "output_type": "execute_result"
    }
   ],
   "source": [
    "#Extract every fourth element in the string starting from first element(stride operation)\n",
    "str_example[::4]"
   ]
  },
  {
   "cell_type": "code",
   "execution_count": 15,
   "metadata": {},
   "outputs": [
    {
     "data": {
      "text/plain": [
       "'wahr'"
      ]
     },
     "execution_count": 15,
     "metadata": {},
     "output_type": "execute_result"
    }
   ],
   "source": [
    "#Extract every second element in the word 'weather' from the given string(stride operation combined with slicing)\n",
    "str_example[8:15:2]"
   ]
  },
  {
   "cell_type": "markdown",
   "metadata": {},
   "source": [
    "<h4>Other string operations</h4><br/>"
   ]
  },
  {
   "cell_type": "code",
   "execution_count": 16,
   "metadata": {},
   "outputs": [
    {
     "data": {
      "text/plain": [
       "9"
      ]
     },
     "execution_count": 16,
     "metadata": {},
     "output_type": "execute_result"
    }
   ],
   "source": [
    "#Using len() function, find the length of string\n",
    "len(\"Expo 2020\")"
   ]
  },
  {
   "cell_type": "code",
   "execution_count": 17,
   "metadata": {},
   "outputs": [
    {
     "name": "stdout",
     "output_type": "stream",
     "text": [
      "He is the best student\n"
     ]
    }
   ],
   "source": [
    "#Concatenate two or more strings using the addition symbol(+)\n",
    "print(\"He is the \"+\"best student\")"
   ]
  },
  {
   "cell_type": "code",
   "execution_count": 18,
   "metadata": {},
   "outputs": [
    {
     "data": {
      "text/plain": [
       "'Hello, Good morning...'"
      ]
     },
     "execution_count": 18,
     "metadata": {},
     "output_type": "execute_result"
    }
   ],
   "source": [
    "str_first=\"Hello, \"\n",
    "str_second=\"Good morning...\"\n",
    "str_first+str_second"
   ]
  },
  {
   "cell_type": "code",
   "execution_count": 19,
   "metadata": {},
   "outputs": [
    {
     "name": "stdout",
     "output_type": "stream",
     "text": [
      "Welcome . . . Welcome . . . Welcome . . . \n"
     ]
    }
   ],
   "source": [
    "#Repeat a string n number of times, using the asterisk operator(*)\n",
    "str_repeat=\"Welcome . . . \"\n",
    "print(str_repeat*3)"
   ]
  },
  {
   "cell_type": "code",
   "execution_count": 20,
   "metadata": {},
   "outputs": [
    {
     "name": "stdout",
     "output_type": "stream",
     "text": [
      "Welcome . . . \n",
      "Welcome . . . \n",
      "Welcome . . . \n",
      "\n"
     ]
    }
   ],
   "source": [
    "str_repeat=\"Welcome . . . \\n\"#\\n represents new line.\n",
    "print(str_repeat*3)"
   ]
  },
  {
   "cell_type": "code",
   "execution_count": 21,
   "metadata": {},
   "outputs": [
    {
     "data": {
      "text/plain": [
       "'NEW YEAR'"
      ]
     },
     "execution_count": 21,
     "metadata": {},
     "output_type": "execute_result"
    }
   ],
   "source": [
    "#Convert a string to upper case\n",
    "str_example=\"new year\"\n",
    "str_example.upper()"
   ]
  },
  {
   "cell_type": "code",
   "execution_count": 22,
   "metadata": {},
   "outputs": [
    {
     "data": {
      "text/plain": [
       "'new year'"
      ]
     },
     "execution_count": 22,
     "metadata": {},
     "output_type": "execute_result"
    }
   ],
   "source": [
    "#Convert a string to lower case\n",
    "str_example=\"NEW YEAR\"\n",
    "str_example.lower()"
   ]
  },
  {
   "cell_type": "code",
   "execution_count": 23,
   "metadata": {},
   "outputs": [
    {
     "name": "stdout",
     "output_type": "stream",
     "text": [
      "Before replace:  It's 2021\n",
      "After replace:  It's 2022\n"
     ]
    }
   ],
   "source": [
    "#Given a string, replace substring with a new substring\n",
    "str_example=\"It's 2021\"\n",
    "print(\"Before replace: \",str_example)\n",
    "str_example=str_example.replace('2021','2022')\n",
    "print(\"After replace: \",str_example)"
   ]
  },
  {
   "cell_type": "code",
   "execution_count": 24,
   "metadata": {},
   "outputs": [
    {
     "data": {
      "text/plain": [
       "17"
      ]
     },
     "execution_count": 24,
     "metadata": {},
     "output_type": "execute_result"
    }
   ],
   "source": [
    "#Check the substring 'pineapple' exists in a given string, using find()\n",
    "str_example='Orange juice and pineapple juice are our favorites'\n",
    "str_example.find('pineapple')"
   ]
  },
  {
   "cell_type": "markdown",
   "metadata": {},
   "source": [
    "If the substring exists in the main string, the find() function returns the starting index of the substring.<br/>\n",
    "If the substring doesn't exist in the main string, the find() function returns -1."
   ]
  },
  {
   "cell_type": "code",
   "execution_count": 25,
   "metadata": {},
   "outputs": [
    {
     "data": {
      "text/plain": [
       "-1"
      ]
     },
     "execution_count": 25,
     "metadata": {},
     "output_type": "execute_result"
    }
   ],
   "source": [
    "#Check the substring 'apple' exists in a given string, using find()\n",
    "str_example='Oranges and grapes are our favorites'\n",
    "str_example.find('apple')"
   ]
  },
  {
   "cell_type": "code",
   "execution_count": null,
   "metadata": {},
   "outputs": [],
   "source": []
  }
 ],
 "metadata": {
  "kernelspec": {
   "display_name": "Python 3",
   "language": "python",
   "name": "python3"
  },
  "language_info": {
   "codemirror_mode": {
    "name": "ipython",
    "version": 3
   },
   "file_extension": ".py",
   "mimetype": "text/x-python",
   "name": "python",
   "nbconvert_exporter": "python",
   "pygments_lexer": "ipython3",
   "version": "3.7.3"
  }
 },
 "nbformat": 4,
 "nbformat_minor": 2
}
